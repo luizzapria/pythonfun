{
 "cells": [
  {
   "cell_type": "code",
   "execution_count": 1,
   "id": "e5ea5528-38c2-4646-96b6-415810601745",
   "metadata": {},
   "outputs": [],
   "source": [
    "class Animal:\n",
    "    def eat(self):\n",
    "        print(\"I eat\")\n",
    "        return None\n",
    "\n",
    "class Cow(Animal):\n",
    "    def eat(self):\n",
    "        print(\"I eat grass\")\n",
    "        return 2"
   ]
  },
  {
   "cell_type": "code",
   "execution_count": 2,
   "id": "3b1e7449-ba6f-41aa-9595-d8d1ab8f09b9",
   "metadata": {},
   "outputs": [
    {
     "name": "stdout",
     "output_type": "stream",
     "text": [
      "I eat\n"
     ]
    }
   ],
   "source": [
    "a=Animal()\n",
    "a.eat()"
   ]
  },
  {
   "cell_type": "code",
   "execution_count": 3,
   "id": "f2ec9d60-27ae-45ed-9274-f40d6ce3f280",
   "metadata": {},
   "outputs": [
    {
     "name": "stdout",
     "output_type": "stream",
     "text": [
      "I eat grass\n"
     ]
    },
    {
     "data": {
      "text/plain": [
       "2"
      ]
     },
     "execution_count": 3,
     "metadata": {},
     "output_type": "execute_result"
    }
   ],
   "source": [
    "c= Cow()\n",
    "c.eat()"
   ]
  },
  {
   "cell_type": "code",
   "execution_count": 4,
   "id": "c94a3c99-d943-48a0-a304-1c36559c8e77",
   "metadata": {},
   "outputs": [],
   "source": [
    "class Tiger(Animal):\n",
    "    def eat(self):\n",
    "        print(\"I eat meat\")\n",
    "        return 4"
   ]
  },
  {
   "cell_type": "code",
   "execution_count": 5,
   "id": "6d7879f1-4147-47d8-b71e-30f7a947b418",
   "metadata": {},
   "outputs": [
    {
     "name": "stdout",
     "output_type": "stream",
     "text": [
      "I eat meat\n"
     ]
    },
    {
     "data": {
      "text/plain": [
       "4"
      ]
     },
     "execution_count": 5,
     "metadata": {},
     "output_type": "execute_result"
    }
   ],
   "source": [
    "t= Tiger()\n",
    "t.eat()"
   ]
  },
  {
   "cell_type": "code",
   "execution_count": 6,
   "id": "79b8a4be-f3e2-4189-8044-0e9ed9d80b19",
   "metadata": {},
   "outputs": [
    {
     "name": "stdout",
     "output_type": "stream",
     "text": [
      "I eat meat\n"
     ]
    },
    {
     "data": {
      "text/plain": [
       "4"
      ]
     },
     "execution_count": 6,
     "metadata": {},
     "output_type": "execute_result"
    }
   ],
   "source": [
    "t2=Tiger()\n",
    "t2.eat()"
   ]
  },
  {
   "cell_type": "code",
   "execution_count": 7,
   "id": "252d7db3-97ab-4362-a204-7c0c8ff9d352",
   "metadata": {},
   "outputs": [],
   "source": [
    "class Zoo:\n",
    "\n",
    "    def __init__(self, list_of_animals):\n",
    "        self.animal=list_of_animals\n",
    "\n",
    "    def __len__(self):\n",
    "        return len(self.animal)\n",
    "\n",
    "    def __getitem__(self, i):\n",
    "        return self.animal[i]\n",
    "                     "
   ]
  },
  {
   "cell_type": "code",
   "execution_count": 8,
   "id": "2ff1cd95-92f3-4369-a6f8-66fefc71907a",
   "metadata": {},
   "outputs": [],
   "source": [
    "zoo=Zoo([c, t])"
   ]
  },
  {
   "cell_type": "code",
   "execution_count": 9,
   "id": "dadcff34-37d9-476a-8cc2-c195f6e66b99",
   "metadata": {},
   "outputs": [
    {
     "name": "stdout",
     "output_type": "stream",
     "text": [
      "I eat grass\n",
      "I eat meat\n"
     ]
    }
   ],
   "source": [
    "total_food_eaten=0\n",
    "for animal in zoo.animal:\n",
    "    total_food_eaten+=animal.eat()"
   ]
  },
  {
   "cell_type": "code",
   "execution_count": 10,
   "id": "6810ad3f-198d-447e-8a80-2b0cf8608373",
   "metadata": {},
   "outputs": [
    {
     "data": {
      "text/plain": [
       "6"
      ]
     },
     "execution_count": 10,
     "metadata": {},
     "output_type": "execute_result"
    }
   ],
   "source": [
    "total_food_eaten"
   ]
  },
  {
   "cell_type": "code",
   "execution_count": 11,
   "id": "0d94d45f-1460-4266-83ff-90833d9a1d98",
   "metadata": {},
   "outputs": [
    {
     "data": {
      "text/plain": [
       "2"
      ]
     },
     "execution_count": 11,
     "metadata": {},
     "output_type": "execute_result"
    }
   ],
   "source": [
    "len(zoo)"
   ]
  },
  {
   "cell_type": "code",
   "execution_count": 12,
   "id": "8c4548c9-d000-421c-97a3-e9699387e181",
   "metadata": {},
   "outputs": [
    {
     "name": "stdout",
     "output_type": "stream",
     "text": [
      "<__main__.Cow object at 0x109030690>\n",
      "<__main__.Tiger object at 0x1092b4350>\n"
     ]
    }
   ],
   "source": [
    "for animal in zoo:\n",
    "    print(animal)"
   ]
  },
  {
   "cell_type": "code",
   "execution_count": 13,
   "id": "74618317-204a-4cda-b23a-fb9a2f95147f",
   "metadata": {},
   "outputs": [
    {
     "data": {
      "text/plain": [
       "<function len(obj, /)>"
      ]
     },
     "execution_count": 13,
     "metadata": {},
     "output_type": "execute_result"
    }
   ],
   "source": [
    "len"
   ]
  },
  {
   "cell_type": "code",
   "execution_count": 14,
   "id": "e63e2d3e-d687-4c25-9167-34432a4c142c",
   "metadata": {},
   "outputs": [
    {
     "name": "stdout",
     "output_type": "stream",
     "text": [
      "1\n",
      "2\n",
      "3\n",
      "4\n"
     ]
    }
   ],
   "source": [
    "for item in [1,2,3,4]:\n",
    "    print(item)"
   ]
  },
  {
   "cell_type": "code",
   "execution_count": 15,
   "id": "96ff4569-d59f-43b4-bd8f-2467d478a02f",
   "metadata": {},
   "outputs": [
    {
     "name": "stdout",
     "output_type": "stream",
     "text": [
      "h\n",
      "e\n",
      "l\n",
      "l\n",
      "o\n",
      " \n",
      "w\n",
      "o\n",
      "r\n",
      "l\n",
      "d\n"
     ]
    }
   ],
   "source": [
    "for ch in \"hello world\":\n",
    "    print(ch)"
   ]
  },
  {
   "cell_type": "code",
   "execution_count": 16,
   "id": "092da906-bf2c-4465-93c6-012e0250c5b8",
   "metadata": {},
   "outputs": [
    {
     "name": "stdout",
     "output_type": "stream",
     "text": [
      "a\n",
      "b\n"
     ]
    }
   ],
   "source": [
    "for int in {'a':1, 'b':2}:\n",
    "    print(int)"
   ]
  },
  {
   "cell_type": "markdown",
   "id": "2e8bc86d-3162-4e8a-99fe-0527ac6ad8e7",
   "metadata": {},
   "source": [
    "All of these are following the sequence protocol "
   ]
  },
  {
   "cell_type": "code",
   "execution_count": 17,
   "id": "2805f3af-e0d3-4a88-8b3d-28de242c93a1",
   "metadata": {},
   "outputs": [],
   "source": [
    "import reprlib\n",
    "class Vector:\n",
    "\n",
    "    def __init__(self, vlist):\n",
    "        self.c=tuple(vlist)\n",
    "\n",
    "    def __repr__(self):\n",
    "        return f\"Vector{reprlib.repr(self.c)}\"\n",
    "    \n",
    "    def __len__(self):\n",
    "        return len (self.c)\n",
    "\n",
    "    def __getitem__(self, i):\n",
    "        return self.c[i]\n",
    "        \n",
    "    def __add__(self, otherv):\n",
    "        el=[]\n",
    "        for i,e in enumerate(self.c):\n",
    "            el.append(e + otherv[i])\n",
    "        return Vector(el)"
   ]
  },
  {
   "cell_type": "code",
   "execution_count": 18,
   "id": "207baab5-3503-4d4c-8ef1-8b6c3412a593",
   "metadata": {},
   "outputs": [],
   "source": [
    "v1 = Vector([1,2])\n",
    "v2 = Vector([1,1])"
   ]
  },
  {
   "cell_type": "code",
   "execution_count": 19,
   "id": "a6a7719e-7775-438b-9d6c-f8c89a677061",
   "metadata": {},
   "outputs": [
    {
     "data": {
      "text/plain": [
       "Vector(2, 3)"
      ]
     },
     "execution_count": 19,
     "metadata": {},
     "output_type": "execute_result"
    }
   ],
   "source": [
    "v3=v1+v2\n",
    "v3"
   ]
  },
  {
   "cell_type": "code",
   "execution_count": 20,
   "id": "f28bce01-b425-4a2b-a733-d795ca74781d",
   "metadata": {},
   "outputs": [
    {
     "data": {
      "text/plain": [
       "(2, 3)"
      ]
     },
     "execution_count": 20,
     "metadata": {},
     "output_type": "execute_result"
    }
   ],
   "source": [
    "v3.c"
   ]
  },
  {
   "cell_type": "code",
   "execution_count": 21,
   "id": "022941d3-95fe-47b2-8b01-aa14a7e13990",
   "metadata": {},
   "outputs": [
    {
     "data": {
      "text/plain": [
       "[1, 2, 3, 4]"
      ]
     },
     "execution_count": 21,
     "metadata": {},
     "output_type": "execute_result"
    }
   ],
   "source": [
    "[1,2]+[3,4]"
   ]
  },
  {
   "cell_type": "code",
   "execution_count": 22,
   "id": "e419dab2-4be7-4cf3-9d99-c6d2714e6d0e",
   "metadata": {},
   "outputs": [
    {
     "data": {
      "text/plain": [
       "(1, 2, 3, 4)"
      ]
     },
     "execution_count": 22,
     "metadata": {},
     "output_type": "execute_result"
    }
   ],
   "source": [
    "(1,2)+(3,4)"
   ]
  },
  {
   "cell_type": "code",
   "execution_count": 23,
   "id": "8d6edc96-204e-4dcc-8955-17547f1d65f2",
   "metadata": {},
   "outputs": [
    {
     "ename": "TypeError",
     "evalue": "unsupported operand type(s) for +: 'set' and 'set'",
     "output_type": "error",
     "traceback": [
      "\u001b[0;31m---------------------------------------------------------------------------\u001b[0m",
      "\u001b[0;31mTypeError\u001b[0m                                 Traceback (most recent call last)",
      "Cell \u001b[0;32mIn[23], line 1\u001b[0m\n\u001b[0;32m----> 1\u001b[0m {\u001b[38;5;241m1\u001b[39m,\u001b[38;5;241m3\u001b[39m,\u001b[38;5;241m5\u001b[39m,\u001b[38;5;241m1\u001b[39m}\u001b[38;5;241m+\u001b[39m{\u001b[38;5;241m2\u001b[39m,\u001b[38;5;241m4\u001b[39m}\n",
      "\u001b[0;31mTypeError\u001b[0m: unsupported operand type(s) for +: 'set' and 'set'"
     ]
    }
   ],
   "source": [
    "{1,3,5,1}+{2,4}"
   ]
  },
  {
   "cell_type": "code",
   "execution_count": 24,
   "id": "22822149-66a0-4b34-836f-8318472c3baf",
   "metadata": {},
   "outputs": [
    {
     "ename": "TypeError",
     "evalue": "unsupported operand type(s) for +: 'dict' and 'dict'",
     "output_type": "error",
     "traceback": [
      "\u001b[0;31m---------------------------------------------------------------------------\u001b[0m",
      "\u001b[0;31mTypeError\u001b[0m                                 Traceback (most recent call last)",
      "Cell \u001b[0;32mIn[24], line 1\u001b[0m\n\u001b[0;32m----> 1\u001b[0m {\u001b[38;5;124m'\u001b[39m\u001b[38;5;124ma\u001b[39m\u001b[38;5;124m'\u001b[39m:\u001b[38;5;241m1\u001b[39m}\u001b[38;5;241m+\u001b[39m{\u001b[38;5;124m'\u001b[39m\u001b[38;5;124mb\u001b[39m\u001b[38;5;124m'\u001b[39m:\u001b[38;5;241m2\u001b[39m}\n",
      "\u001b[0;31mTypeError\u001b[0m: unsupported operand type(s) for +: 'dict' and 'dict'"
     ]
    }
   ],
   "source": [
    "{'a':1}+{'b':2}"
   ]
  },
  {
   "cell_type": "code",
   "execution_count": 25,
   "id": "faff6788-dfcf-48a6-a3a5-19516435c19b",
   "metadata": {},
   "outputs": [
    {
     "data": {
      "text/plain": [
       "'helloworld'"
      ]
     },
     "execution_count": 25,
     "metadata": {},
     "output_type": "execute_result"
    }
   ],
   "source": [
    "\"hello\"+\"world\""
   ]
  },
  {
   "cell_type": "code",
   "execution_count": 38,
   "id": "e63321de-98ba-44de-85b8-891c381e7555",
   "metadata": {},
   "outputs": [],
   "source": [
    "class A:\n",
    "    RUNNABLE=False\n",
    "    \n",
    "    def __init__(self):\n",
    "        self.whoami=\"A\""
   ]
  },
  {
   "cell_type": "code",
   "execution_count": 39,
   "id": "02e0ff36-5692-49f9-8235-9583459e9d1e",
   "metadata": {
    "tags": []
   },
   "outputs": [],
   "source": [
    "a=A()"
   ]
  },
  {
   "cell_type": "code",
   "execution_count": 40,
   "id": "b39765f2-d6fd-4341-8eb0-d3ee23e1edc3",
   "metadata": {
    "tags": []
   },
   "outputs": [
    {
     "data": {
      "text/plain": [
       "False"
      ]
     },
     "execution_count": 40,
     "metadata": {},
     "output_type": "execute_result"
    }
   ],
   "source": [
    "a.RUNNABLE"
   ]
  },
  {
   "cell_type": "code",
   "execution_count": 41,
   "id": "78a77468-7f16-41b5-ad94-2e956f41aa9d",
   "metadata": {
    "tags": []
   },
   "outputs": [
    {
     "data": {
      "text/plain": [
       "False"
      ]
     },
     "execution_count": 41,
     "metadata": {},
     "output_type": "execute_result"
    }
   ],
   "source": [
    "A.RUNNABLE #class variable can be accessed from an instance"
   ]
  },
  {
   "cell_type": "code",
   "execution_count": 42,
   "id": "1afd90a2-c865-4154-badb-c78f7780a2a9",
   "metadata": {
    "tags": []
   },
   "outputs": [
    {
     "data": {
      "text/plain": [
       "'A'"
      ]
     },
     "execution_count": 42,
     "metadata": {},
     "output_type": "execute_result"
    }
   ],
   "source": [
    "a.whoami"
   ]
  },
  {
   "cell_type": "code",
   "execution_count": 43,
   "id": "219ac678-9e6b-4c19-b945-a4a42725ed1b",
   "metadata": {
    "tags": []
   },
   "outputs": [
    {
     "ename": "AttributeError",
     "evalue": "type object 'A' has no attribute 'whoami'",
     "output_type": "error",
     "traceback": [
      "\u001b[0;31m---------------------------------------------------------------------------\u001b[0m",
      "\u001b[0;31mAttributeError\u001b[0m                            Traceback (most recent call last)",
      "Cell \u001b[0;32mIn[43], line 1\u001b[0m\n\u001b[0;32m----> 1\u001b[0m A\u001b[38;5;241m.\u001b[39mwhoami\n",
      "\u001b[0;31mAttributeError\u001b[0m: type object 'A' has no attribute 'whoami'"
     ]
    }
   ],
   "source": [
    "A.whoami"
   ]
  },
  {
   "cell_type": "code",
   "execution_count": 66,
   "id": "1b13aac7-f9e6-47df-856d-809b2a6092c1",
   "metadata": {
    "tags": []
   },
   "outputs": [],
   "source": [
    "MAX_B_INSTANCES=2\n",
    "class B:\n",
    "    RUNNABLE=False\n",
    "    COUNTER=0\n",
    "    \n",
    "    @classmethod\n",
    "    def bmaker(cls, who):\n",
    "        if cls.COUNTER>MAX_B_INSTANCES:\n",
    "            raise ValueError(\"Too many instances of class B\")\n",
    "        else:\n",
    "            b=cls()\n",
    "            cls.COUNTER+=1\n",
    "            b.whoami=who\n",
    "            return b\n",
    "    \n",
    "    def __init__(self):\n",
    "        self.person=True\n",
    "        \n",
    "    def __repr__(self):\n",
    "        return \"Look, gorgeous B!\"\n",
    "        \n",
    "    def set_status(self):\n",
    "        self.runnable=B.RUNNABLE\n",
    "    "
   ]
  },
  {
   "cell_type": "code",
   "execution_count": 67,
   "id": "ad2c9ec1-85f6-4be2-9cfa-07bf4e1accad",
   "metadata": {
    "tags": []
   },
   "outputs": [],
   "source": [
    "myb=B.bmaker(\"Rahul\")"
   ]
  },
  {
   "cell_type": "code",
   "execution_count": 68,
   "id": "015dff2a-d80a-45a9-b679-1cb678f9fc85",
   "metadata": {
    "tags": []
   },
   "outputs": [
    {
     "data": {
      "text/plain": [
       "__main__.B"
      ]
     },
     "execution_count": 68,
     "metadata": {},
     "output_type": "execute_result"
    }
   ],
   "source": [
    "type(myb)"
   ]
  },
  {
   "cell_type": "code",
   "execution_count": 69,
   "id": "9dc2fe85-1416-423b-a7d9-52110feb8e5b",
   "metadata": {
    "tags": []
   },
   "outputs": [
    {
     "data": {
      "text/plain": [
       "False"
      ]
     },
     "execution_count": 69,
     "metadata": {},
     "output_type": "execute_result"
    }
   ],
   "source": [
    "myb.RUNNABLE"
   ]
  },
  {
   "cell_type": "code",
   "execution_count": 70,
   "id": "c45d227e-a6c2-43dd-8a66-923a51c329a9",
   "metadata": {
    "tags": []
   },
   "outputs": [
    {
     "data": {
      "text/plain": [
       "'Rahul'"
      ]
     },
     "execution_count": 70,
     "metadata": {},
     "output_type": "execute_result"
    }
   ],
   "source": [
    "myb.whoami"
   ]
  },
  {
   "cell_type": "code",
   "execution_count": 71,
   "id": "076ad94e-5b5c-419d-9ccc-ed397767cde0",
   "metadata": {
    "tags": []
   },
   "outputs": [],
   "source": [
    "myb.set_status()"
   ]
  },
  {
   "cell_type": "code",
   "execution_count": 72,
   "id": "051aced8-1275-4640-a919-a59f10ae2de9",
   "metadata": {
    "tags": []
   },
   "outputs": [
    {
     "data": {
      "text/plain": [
       "Look, gorgeous B!"
      ]
     },
     "execution_count": 72,
     "metadata": {},
     "output_type": "execute_result"
    }
   ],
   "source": [
    "myb"
   ]
  },
  {
   "cell_type": "code",
   "execution_count": 73,
   "id": "2ca67991-37ea-4cd0-9622-d8faf225d60d",
   "metadata": {
    "tags": []
   },
   "outputs": [
    {
     "data": {
      "text/plain": [
       "False"
      ]
     },
     "execution_count": 73,
     "metadata": {},
     "output_type": "execute_result"
    }
   ],
   "source": [
    "myb.runnable"
   ]
  },
  {
   "cell_type": "code",
   "execution_count": 74,
   "id": "16cbb165-2866-4cd7-8763-6e1a854a370a",
   "metadata": {
    "tags": []
   },
   "outputs": [
    {
     "data": {
      "text/plain": [
       "1"
      ]
     },
     "execution_count": 74,
     "metadata": {},
     "output_type": "execute_result"
    }
   ],
   "source": [
    "myb.COUNTER"
   ]
  },
  {
   "cell_type": "code",
   "execution_count": 75,
   "id": "d71ee938-a466-4e26-8577-e42e39ffe7b9",
   "metadata": {
    "tags": []
   },
   "outputs": [
    {
     "data": {
      "text/plain": [
       "1"
      ]
     },
     "execution_count": 75,
     "metadata": {},
     "output_type": "execute_result"
    }
   ],
   "source": [
    "B.COUNTER"
   ]
  },
  {
   "cell_type": "code",
   "execution_count": 76,
   "id": "2d160cee-b01c-41ce-9c88-2e1509291df8",
   "metadata": {
    "tags": []
   },
   "outputs": [],
   "source": [
    "myb2=B.bmaker(\"Ray\")"
   ]
  },
  {
   "cell_type": "code",
   "execution_count": 77,
   "id": "b4564bfc-c125-4c01-9ae9-dc6d0ae0abb2",
   "metadata": {
    "tags": []
   },
   "outputs": [
    {
     "data": {
      "text/plain": [
       "2"
      ]
     },
     "execution_count": 77,
     "metadata": {},
     "output_type": "execute_result"
    }
   ],
   "source": [
    "B.COUNTER"
   ]
  },
  {
   "cell_type": "code",
   "execution_count": 79,
   "id": "a3a7ce50-0b01-4cea-b207-210893212d6b",
   "metadata": {
    "tags": []
   },
   "outputs": [
    {
     "ename": "ValueError",
     "evalue": "Too many instances of class B",
     "output_type": "error",
     "traceback": [
      "\u001b[0;31m---------------------------------------------------------------------------\u001b[0m",
      "\u001b[0;31mValueError\u001b[0m                                Traceback (most recent call last)",
      "Cell \u001b[0;32mIn[79], line 1\u001b[0m\n\u001b[0;32m----> 1\u001b[0m myb3\u001b[38;5;241m=\u001b[39mB\u001b[38;5;241m.\u001b[39mbmaker(\u001b[38;5;124m\"\u001b[39m\u001b[38;5;124mJoao\u001b[39m\u001b[38;5;124m\"\u001b[39m)\n\u001b[1;32m      2\u001b[0m myb3\n",
      "Cell \u001b[0;32mIn[66], line 9\u001b[0m, in \u001b[0;36mB.bmaker\u001b[0;34m(cls, who)\u001b[0m\n\u001b[1;32m      6\u001b[0m \u001b[38;5;129m@classmethod\u001b[39m\n\u001b[1;32m      7\u001b[0m \u001b[38;5;28;01mdef\u001b[39;00m \u001b[38;5;21mbmaker\u001b[39m(\u001b[38;5;28mcls\u001b[39m, who):\n\u001b[1;32m      8\u001b[0m     \u001b[38;5;28;01mif\u001b[39;00m \u001b[38;5;28mcls\u001b[39m\u001b[38;5;241m.\u001b[39mCOUNTER\u001b[38;5;241m>\u001b[39mMAX_B_INSTANCES:\n\u001b[0;32m----> 9\u001b[0m         \u001b[38;5;28;01mraise\u001b[39;00m \u001b[38;5;167;01mValueError\u001b[39;00m(\u001b[38;5;124m\"\u001b[39m\u001b[38;5;124mToo many instances of class B\u001b[39m\u001b[38;5;124m\"\u001b[39m)\n\u001b[1;32m     10\u001b[0m     \u001b[38;5;28;01melse\u001b[39;00m:\n\u001b[1;32m     11\u001b[0m         b\u001b[38;5;241m=\u001b[39m\u001b[38;5;28mcls\u001b[39m()\n",
      "\u001b[0;31mValueError\u001b[0m: Too many instances of class B"
     ]
    }
   ],
   "source": []
  },
  {
   "cell_type": "code",
   "execution_count": null,
   "id": "13b9312f-63f3-4fc0-950d-7530ea75b7a2",
   "metadata": {},
   "outputs": [],
   "source": []
  }
 ],
 "metadata": {
  "kernelspec": {
   "display_name": "Python 3 (ipykernel)",
   "language": "python",
   "name": "python3"
  },
  "language_info": {
   "codemirror_mode": {
    "name": "ipython",
    "version": 3
   },
   "file_extension": ".py",
   "mimetype": "text/x-python",
   "name": "python",
   "nbconvert_exporter": "python",
   "pygments_lexer": "ipython3",
   "version": "3.11.3"
  }
 },
 "nbformat": 4,
 "nbformat_minor": 5
}
