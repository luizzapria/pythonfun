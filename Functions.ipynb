{
 "cells": [
  {
   "cell_type": "markdown",
   "metadata": {
    "id": "zF8ozUztoB2k"
   },
   "source": [
    "# Functions!"
   ]
  },
  {
   "cell_type": "markdown",
   "metadata": {
    "id": "92yrwa51oB2n"
   },
   "source": [
    "\n",
    "A function is an **encapsulated** set of statements that take input, do some specific computation and produce output.\n",
    "\n",
    "There are many ways to define functions:\n",
    "\n",
    "- Functions can be built-in to python\n",
    "- Functions can imported from an existing Python Library, including libraries you have installed\n",
    "- A function can be user defined\n",
    "- A function can be anonymous\n",
    "- functions can belong to objects. These functions are called **methods**.\n",
    "\n",
    "Properties of functions:\n",
    "\n",
    "- A function can be called from other functions\n",
    "- Can return data, or even other functions\n",
    "\n",
    "![](https://github.com/hult-cm3-rahul/LearningPython/raw/main/images/runfuncs.png)"
   ]
  },
  {
   "cell_type": "code",
   "execution_count": 29,
   "metadata": {
    "colab": {
     "base_uri": "https://localhost:8080/"
    },
    "id": "jP0DuVquoB2o",
    "outputId": "a4dd13eb-0eec-4ef0-ca19-028b5c1bebfe"
   },
   "outputs": [
    {
     "data": {
      "text/plain": [
       "15"
      ]
     },
     "execution_count": 29,
     "metadata": {},
     "output_type": "execute_result"
    }
   ],
   "source": [
    "# Built-in functions\n",
    "\n",
    "var1 = -15\n",
    "abs(var1)"
   ]
  },
  {
   "cell_type": "markdown",
   "metadata": {
    "id": "pJe2YpUBoB2o"
   },
   "source": [
    "Here are the two different ways of importing a function from a module."
   ]
  },
  {
   "cell_type": "code",
   "execution_count": 30,
   "metadata": {
    "colab": {
     "base_uri": "https://localhost:8080/"
    },
    "id": "vMxYbWBooB2o",
    "outputId": "6937f5a7-a7cb-4e6d-9be7-25fde98d0406"
   },
   "outputs": [
    {
     "data": {
      "text/plain": [
       "8"
      ]
     },
     "execution_count": 30,
     "metadata": {},
     "output_type": "execute_result"
    }
   ],
   "source": [
    "import os\n",
    "os.cpu_count()"
   ]
  },
  {
   "cell_type": "markdown",
   "metadata": {
    "id": "fg6s_V1yoB2o"
   },
   "source": [
    "The special `from` syntax allows us to import just one function:"
   ]
  },
  {
   "cell_type": "code",
   "execution_count": 31,
   "metadata": {
    "colab": {
     "base_uri": "https://localhost:8080/"
    },
    "id": "juF9DaOsoB2o",
    "outputId": "6b39c36b-9cba-48c6-bc2b-36072c59984d"
   },
   "outputs": [
    {
     "data": {
      "text/plain": [
       "2.0"
      ]
     },
     "execution_count": 31,
     "metadata": {},
     "output_type": "execute_result"
    }
   ],
   "source": [
    "from math import sqrt\n",
    "sqrt(4)"
   ]
  },
  {
   "cell_type": "markdown",
   "metadata": {
    "id": "wsFW8nJeoB2o"
   },
   "source": [
    "Functions are not the only thing we can import: pre-defined variables representing constants or other objects (like a database connection) may be imported as well.\n",
    "\n",
    "```python\n",
    "import math\n",
    "print(math.pi)\n",
    "```\n",
    "\n",
    "One can even import a single variable from a library, using the `from` syntax:"
   ]
  },
  {
   "cell_type": "code",
   "execution_count": 32,
   "metadata": {
    "id": "OasyHkEvoB2p"
   },
   "outputs": [],
   "source": [
    "from math import pi"
   ]
  },
  {
   "cell_type": "markdown",
   "metadata": {
    "id": "PXED98wFoB2p"
   },
   "source": [
    "Now let us **define our own function**:"
   ]
  },
  {
   "cell_type": "code",
   "execution_count": 33,
   "metadata": {
    "colab": {
     "base_uri": "https://localhost:8080/"
    },
    "id": "4LxzbrWToB2p",
    "outputId": "9f41eb2b-1fb1-4681-e21c-d391c4c9aa7f"
   },
   "outputs": [
    {
     "data": {
      "text/plain": [
       "314.1592653589793"
      ]
     },
     "execution_count": 33,
     "metadata": {},
     "output_type": "execute_result"
    }
   ],
   "source": [
    "def circle_area(radius):\n",
    "    area = pi*radius*radius\n",
    "    return area\n",
    "circle_area(10)"
   ]
  },
  {
   "cell_type": "markdown",
   "metadata": {
    "id": "h2lfgOmEoB2p"
   },
   "source": [
    "Notice the **indentation** of the function body, just as we did with conditional blocks...."
   ]
  },
  {
   "cell_type": "markdown",
   "metadata": {
    "id": "-WIVwhHKoB2p"
   },
   "source": [
    "One can define **anonymous functions** and assign them to variables:"
   ]
  },
  {
   "cell_type": "code",
   "execution_count": 34,
   "metadata": {
    "colab": {
     "base_uri": "https://localhost:8080/"
    },
    "id": "DzPxYngPoB2p",
    "outputId": "8199c8cb-e699-454e-d9d2-604ab91ea675"
   },
   "outputs": [
    {
     "data": {
      "text/plain": [
       "5.0"
      ]
     },
     "execution_count": 34,
     "metadata": {},
     "output_type": "execute_result"
    }
   ],
   "source": [
    "from math import sqrt\n",
    "hypot = lambda x, y: sqrt(x*x + y*y) # imported from math\n",
    "hypot(3,4)"
   ]
  },
  {
   "cell_type": "markdown",
   "metadata": {
    "id": "5W0m_m2boB2p"
   },
   "source": [
    "In data science these are often used to define one-line math functions...\n",
    "\n",
    "Functions can have default values which the function may be used without..."
   ]
  },
  {
   "cell_type": "code",
   "execution_count": 35,
   "metadata": {
    "id": "zH01hWc2oB2q"
   },
   "outputs": [],
   "source": [
    "def register(name, affiliation=\"Student\"):\n",
    "    print(f\"{name} is a {affiliation}\")"
   ]
  },
  {
   "cell_type": "markdown",
   "metadata": {
    "id": "kf4burjnoB2q"
   },
   "source": [
    "This function does not return \"anything. Indeed, if you try and capture its return value in a variable, it is the special python type `None`"
   ]
  },
  {
   "cell_type": "code",
   "execution_count": 36,
   "metadata": {
    "colab": {
     "base_uri": "https://localhost:8080/"
    },
    "id": "VjYQg3BnoB2q",
    "outputId": "a4ac43da-e3c8-4a64-aa3c-eb0f9326e9e7"
   },
   "outputs": [
    {
     "name": "stdout",
     "output_type": "stream",
     "text": [
      "Rahul is a Teacher\n",
      "None <class 'NoneType'>\n"
     ]
    }
   ],
   "source": [
    "capture = register(\"Rahul\", affiliation=\"Teacher\")\n",
    "print(capture, type(capture))"
   ]
  },
  {
   "cell_type": "code",
   "execution_count": 37,
   "metadata": {
    "colab": {
     "base_uri": "https://localhost:8080/"
    },
    "id": "SP_1vEtZoB2q",
    "outputId": "a932bc2e-1493-4a46-dd07-3f41520ec3e3"
   },
   "outputs": [
    {
     "name": "stdout",
     "output_type": "stream",
     "text": [
      "John is a Student\n"
     ]
    }
   ],
   "source": [
    "register(\"John\")"
   ]
  },
  {
   "cell_type": "code",
   "execution_count": 38,
   "metadata": {
    "colab": {
     "base_uri": "https://localhost:8080/"
    },
    "id": "SP_1vEtZoB2q",
    "outputId": "a932bc2e-1493-4a46-dd07-3f41520ec3e3"
   },
   "outputs": [],
   "source": [
    "def register():\n",
    "    pass"
   ]
  },
  {
   "cell_type": "code",
   "execution_count": 39,
   "metadata": {},
   "outputs": [
    {
     "data": {
      "text/plain": [
       "<function __main__.register()>"
      ]
     },
     "execution_count": 39,
     "metadata": {},
     "output_type": "execute_result"
    }
   ],
   "source": [
    "register"
   ]
  },
  {
   "cell_type": "markdown",
   "metadata": {
    "id": "iRkaljuioB2q"
   },
   "source": [
    "## The scope of variables in functions\n",
    "\n",
    "- Scope of a variable is the portion of a program where the variable is recognized. Parameters and variables defined inside a function is not visible from outside. Hence, they have a local scope, also called a Lexical scope: you can see it from seeing the code.\n",
    "\n",
    "- Lifetime of a variable is the period throughout which the variable exits in the memory. The lifetime of variables inside a function is as long as the function executes.\n",
    "\n",
    "- They are destroyed once we return from the function. Hence, a function does not remember the value of a variable from its previous calls.\n",
    "\n",
    "The scope of this jupyter notebook, or in a python file, is the global scope. The scope defined inside of a function definition is the local scope.\n",
    "\n",
    "Here is an example to illustrate the scope of a variable inside a function."
   ]
  },
  {
   "cell_type": "code",
   "execution_count": 40,
   "metadata": {
    "colab": {
     "base_uri": "https://localhost:8080/"
    },
    "id": "U7gLKTAmoB2r",
    "outputId": "6719d562-c45d-424c-9baa-5c3b5caf98fa"
   },
   "outputs": [
    {
     "name": "stdout",
     "output_type": "stream",
     "text": [
      "Value inside function: 10\n",
      "Value outside function: 20\n"
     ]
    }
   ],
   "source": [
    "def my_func():\n",
    "    x = 10\n",
    "    print(\"Value inside function:\",x)\n",
    "\n",
    "x = 20\n",
    "my_func()\n",
    "print(\"Value outside function:\",x)"
   ]
  },
  {
   "cell_type": "markdown",
   "metadata": {
    "id": "0ZXuJtcdoB2r"
   },
   "source": [
    "In this way, a variable defined locally can shadow a global. Here the value x inside `my_func` comes from the local definition (10), not the global one (20)"
   ]
  },
  {
   "cell_type": "markdown",
   "metadata": {
    "id": "cw_2OnaNoB2r"
   },
   "source": [
    "## Functions are First Class objects\n",
    "\n",
    "This means that functions can act as objects, and thus be represented as variables. For example:"
   ]
  },
  {
   "cell_type": "code",
   "execution_count": 41,
   "metadata": {
    "id": "v2aHXKJNoB2r"
   },
   "outputs": [],
   "source": [
    "square = lambda x: x*x"
   ]
  },
  {
   "cell_type": "code",
   "execution_count": 42,
   "metadata": {},
   "outputs": [
    {
     "data": {
      "text/plain": [
       "25"
      ]
     },
     "execution_count": 42,
     "metadata": {},
     "output_type": "execute_result"
    }
   ],
   "source": [
    "hevkdjn=square\n",
    "hevkdjn(5)"
   ]
  },
  {
   "cell_type": "markdown",
   "metadata": {
    "id": "PrDb30kxoB2r"
   },
   "source": [
    "The further meaning of this is that you can return functions from functions just as you return variables, and pass functions into functions, just as you would pass variables. This means that you can achieve very general functionality easily."
   ]
  },
  {
   "cell_type": "code",
   "execution_count": 43,
   "metadata": {
    "colab": {
     "base_uri": "https://localhost:8080/"
    },
    "id": "H1BLL7InoB2r",
    "outputId": "c1be59b4-c1ee-47a3-ffe0-59f6630da503"
   },
   "outputs": [
    {
     "data": {
      "text/plain": [
       "25"
      ]
     },
     "execution_count": 43,
     "metadata": {},
     "output_type": "execute_result"
    }
   ],
   "source": [
    "def sum_of_squares(x, y):\n",
    "    return x*x + y*y\n",
    "sum_of_squares(3, 4)"
   ]
  },
  {
   "cell_type": "markdown",
   "metadata": {
    "id": "LXuZtxSyoB2r"
   },
   "source": [
    "You should test the functions you write. The idea here is you take some cases and make sure these give you the right answer:"
   ]
  },
  {
   "cell_type": "code",
   "execution_count": 44,
   "metadata": {
    "id": "RcJcT141oB2r"
   },
   "outputs": [],
   "source": [
    "assert sum_of_squares(3, 4) == 25 # this is an expression, not a function"
   ]
  },
  {
   "cell_type": "markdown",
   "metadata": {
    "id": "W_GQT6xWoB2r"
   },
   "source": [
    "If somehow you got the implementation wrong, you would get the wrong answer."
   ]
  },
  {
   "cell_type": "code",
   "execution_count": 45,
   "metadata": {
    "colab": {
     "base_uri": "https://localhost:8080/",
     "height": 198
    },
    "id": "hg3_zpg9oB2r",
    "outputId": "547a1134-ff67-4c9b-af0b-feb0b2c44be4"
   },
   "outputs": [
    {
     "ename": "AssertionError",
     "evalue": "",
     "output_type": "error",
     "traceback": [
      "\u001b[0;31m---------------------------------------------------------------------------\u001b[0m",
      "\u001b[0;31mAssertionError\u001b[0m                            Traceback (most recent call last)",
      "Cell \u001b[0;32mIn[45], line 3\u001b[0m\n\u001b[1;32m      1\u001b[0m \u001b[38;5;28;01mdef\u001b[39;00m \u001b[38;5;21msum_of_squares_wrong\u001b[39m(x, y):\n\u001b[1;32m      2\u001b[0m     \u001b[38;5;28;01mreturn\u001b[39;00m x\u001b[38;5;241m*\u001b[39mx \u001b[38;5;241m+\u001b[39m y\u001b[38;5;241m*\u001b[39my\u001b[38;5;241m*\u001b[39my\n\u001b[0;32m----> 3\u001b[0m \u001b[38;5;28;01massert\u001b[39;00m sum_of_squares_wrong(\u001b[38;5;241m3\u001b[39m, \u001b[38;5;241m4\u001b[39m) \u001b[38;5;241m==\u001b[39m \u001b[38;5;241m25\u001b[39m\n",
      "\u001b[0;31mAssertionError\u001b[0m: "
     ]
    }
   ],
   "source": [
    "def sum_of_squares_wrong(x, y):\n",
    "    return x*x + y*y*y\n",
    "assert sum_of_squares_wrong(3, 4) == 25"
   ]
  },
  {
   "cell_type": "code",
   "execution_count": 46,
   "metadata": {
    "colab": {
     "base_uri": "https://localhost:8080/"
    },
    "id": "0HkTyZttoB2r",
    "outputId": "e2145f8f-c2d5-4f91-f911-2e01fad8e8ad"
   },
   "outputs": [
    {
     "data": {
      "text/plain": [
       "91"
      ]
     },
     "execution_count": 46,
     "metadata": {},
     "output_type": "execute_result"
    }
   ],
   "source": [
    "def sum_of_cubes(x, y):\n",
    "    return x*x*x + y*y*y\n",
    "sum_of_cubes(3, 4)"
   ]
  },
  {
   "cell_type": "markdown",
   "metadata": {
    "id": "pCN2zjlloB2s"
   },
   "source": [
    "Does this seem repetitive? You could instead do:"
   ]
  },
  {
   "cell_type": "code",
   "execution_count": 47,
   "metadata": {
    "colab": {
     "base_uri": "https://localhost:8080/"
    },
    "id": "iCrpY4qFoB2s",
    "outputId": "32bed0c5-78ce-46b2-f164-555e7139b3c1"
   },
   "outputs": [
    {
     "data": {
      "text/plain": [
       "25"
      ]
     },
     "execution_count": 47,
     "metadata": {},
     "output_type": "execute_result"
    }
   ],
   "source": [
    "def sum_of_anything(f, x, y):\n",
    "    return f(x) + f(y)\n",
    "sum_of_anything(square, 3, 4)"
   ]
  },
  {
   "cell_type": "markdown",
   "metadata": {
    "id": "F5pX7CncoB2s"
   },
   "source": [
    "But python goes further! You can define functions inside of functions and return your defined functions..this is the other side of the coin of taking functions of arguments..you can return them as well. This further expands the menu of things you can do. For example:"
   ]
  },
  {
   "cell_type": "code",
   "execution_count": 48,
   "metadata": {
    "id": "JoIyGh-AoB2s"
   },
   "outputs": [],
   "source": [
    "def soa(f): # sum anything, this returns a function\n",
    "    def h(x, y):\n",
    "        return f(x) + f(y)\n",
    "    return h"
   ]
  },
  {
   "cell_type": "markdown",
   "metadata": {
    "id": "11s8shfVoB2s"
   },
   "source": [
    "Here we are writung a function soa that takes a function f as an argument, and returns a function h, which when executed takes two imputs, puts them through f, and then sums them. So:"
   ]
  },
  {
   "cell_type": "code",
   "execution_count": 49,
   "metadata": {
    "colab": {
     "base_uri": "https://localhost:8080/"
    },
    "id": "E5xMAhr2oB2s",
    "outputId": "0664641c-882e-4152-dc08-bff66d643a10"
   },
   "outputs": [
    {
     "data": {
      "text/plain": [
       "function"
      ]
     },
     "execution_count": 49,
     "metadata": {},
     "output_type": "execute_result"
    }
   ],
   "source": [
    "sum_of_squares = soa(square)\n",
    "type(sum_of_squares)"
   ]
  },
  {
   "cell_type": "code",
   "execution_count": 50,
   "metadata": {
    "colab": {
     "base_uri": "https://localhost:8080/"
    },
    "id": "O84vYHBuoB2s",
    "outputId": "92b87d28-9e69-47c3-c336-e657b646f2bd"
   },
   "outputs": [
    {
     "data": {
      "text/plain": [
       "25"
      ]
     },
     "execution_count": 50,
     "metadata": {},
     "output_type": "execute_result"
    }
   ],
   "source": [
    "sum_of_squares(3,4)"
   ]
  },
  {
   "cell_type": "markdown",
   "metadata": {
    "id": "7gSGNek7oB2s"
   },
   "source": [
    "These abilities are behind a very important branch of programming called **Functional Programming**, which we will talk about later!"
   ]
  },
  {
   "cell_type": "code",
   "execution_count": 51,
   "metadata": {},
   "outputs": [
    {
     "ename": "NameError",
     "evalue": "name 'cube' is not defined",
     "output_type": "error",
     "traceback": [
      "\u001b[0;31m---------------------------------------------------------------------------\u001b[0m",
      "\u001b[0;31mNameError\u001b[0m                                 Traceback (most recent call last)",
      "Cell \u001b[0;32mIn[51], line 1\u001b[0m\n\u001b[0;32m----> 1\u001b[0m sum_of_cubes \u001b[38;5;241m=\u001b[39m soa(\u001b[43mcube\u001b[49m)\n\u001b[1;32m      2\u001b[0m sum_of_cubes(\u001b[38;5;241m3\u001b[39m,\u001b[38;5;241m4\u001b[39m)\n",
      "\u001b[0;31mNameError\u001b[0m: name 'cube' is not defined"
     ]
    }
   ],
   "source": [
    "sum_of_cubes = soa(cube)\n",
    "sum_of_cubes(3,4)"
   ]
  },
  {
   "cell_type": "code",
   "execution_count": 52,
   "metadata": {},
   "outputs": [],
   "source": [
    "def outer():\n",
    "    a=3\n",
    "    def inner(x):\n",
    "        return x + a\n",
    "    return inner\n",
    "i=outer()"
   ]
  },
  {
   "cell_type": "code",
   "execution_count": 54,
   "metadata": {},
   "outputs": [
    {
     "data": {
      "text/plain": [
       "8"
      ]
     },
     "execution_count": 54,
     "metadata": {},
     "output_type": "execute_result"
    }
   ],
   "source": [
    "i(5)"
   ]
  },
  {
   "cell_type": "markdown",
   "metadata": {
    "id": "E_EQIsiqoB2s"
   },
   "source": [
    "## CODING EXERCISE\n",
    "\n",
    "Here is a list of x-values, the deviations from the mean temperature of a mechanical device. The corresponding y-values are failures. Plotted, they look like this:\n",
    "\n",
    "![](https://github.com/hult-cm3-rahul/LearningPython/raw/main/images/failures.png)"
   ]
  },
  {
   "cell_type": "code",
   "execution_count": 69,
   "metadata": {
    "id": "RaEsQm5doB2s"
   },
   "outputs": [],
   "source": [
    "xvals = [-2.022945287808054, -1.8486091760122103, -1.8476481826866842, -1.7435854332654428,\n",
    "         -1.5282423673888716, -1.3945778557109074, -1.1403979924220742, -0.8009077275459544,\n",
    "         -0.7108560219444477, -0.5638678812593274, -0.43048994749879754, -0.4265240230310121,\n",
    "         -0.23456806947264375, -0.08933017942095312, 0.04091978204507629, 0.5542534388866378,\n",
    "         0.5558786314354511, 0.8006640938973202, 1.2144534202678483, 1.9118026057089639]\n",
    "y = [0, 0, 0, 0, 0, 0, 0, 0, 0, 1, 1, 0, 1, 1, 1, 1, 1, 1, 1, 1]"
   ]
  },
  {
   "cell_type": "markdown",
   "metadata": {
    "id": "7bMAcNDpoB2t"
   },
   "source": [
    "Future you has run a machine learning model and come up with the following parameters called slope and intercept:"
   ]
  },
  {
   "cell_type": "code",
   "execution_count": 70,
   "metadata": {
    "id": "gtEsOV99oB2t"
   },
   "outputs": [],
   "source": [
    "slope, intercept = (9.812037170985635, 5.175316482607568)"
   ]
  },
  {
   "cell_type": "markdown",
   "metadata": {
    "id": "E4oZ7D1YoB2t"
   },
   "source": [
    "This syntax is called the destructuring of another kind of list, called a tuple.\n",
    "\n",
    "1. Implement an anonymous or other function to calculate the probability of failure $p(x)$:\n",
    "\n",
    "$$p(x) = \\frac{1}{1+e^{-(b + m x)}}$$\n",
    "\n",
    "where $m$ is the slope and $b$ is the intercept. Use the function you defined to create an array `probs` of the probability of failures at the 20 temperatures above"
   ]
  },
  {
   "cell_type": "code",
   "execution_count": 82,
   "metadata": {},
   "outputs": [],
   "source": [
    "from math import exp\n",
    "# your code here\n",
    "def prob(x):\n",
    "   return 1/(1+exp(-intercept-slope*x))"
   ]
  },
  {
   "cell_type": "code",
   "execution_count": 83,
   "metadata": {},
   "outputs": [
    {
     "data": {
      "text/plain": [
       "4.2384487899544125e-07"
      ]
     },
     "execution_count": 83,
     "metadata": {},
     "output_type": "execute_result"
    }
   ],
   "source": [
    "prob(-2.022945287808054)"
   ]
  },
  {
   "cell_type": "code",
   "execution_count": 84,
   "metadata": {},
   "outputs": [
    {
     "data": {
      "text/plain": [
       "2.3448061801774165e-06"
      ]
     },
     "execution_count": 84,
     "metadata": {},
     "output_type": "execute_result"
    }
   ],
   "source": [
    "prob(-1.8486091760122103)"
   ]
  },
  {
   "cell_type": "code",
   "execution_count": 85,
   "metadata": {},
   "outputs": [
    {
     "data": {
      "text/plain": [
       "[-2.022945287808054,\n",
       " -1.8486091760122103,\n",
       " -1.8476481826866842,\n",
       " -1.7435854332654428,\n",
       " -1.5282423673888716,\n",
       " -1.3945778557109074,\n",
       " -1.1403979924220742,\n",
       " -0.8009077275459544,\n",
       " -0.7108560219444477,\n",
       " -0.5638678812593274,\n",
       " -0.43048994749879754,\n",
       " -0.4265240230310121,\n",
       " -0.23456806947264375,\n",
       " -0.08933017942095312,\n",
       " 0.04091978204507629,\n",
       " 0.5542534388866378,\n",
       " 0.5558786314354511,\n",
       " 0.8006640938973202,\n",
       " 1.2144534202678483,\n",
       " 1.9118026057089639]"
      ]
     },
     "execution_count": 85,
     "metadata": {},
     "output_type": "execute_result"
    }
   ],
   "source": [
    "newlist=[]\n",
    "for x in xvals:\n",
    "    newlist.append(x)\n",
    "newlist"
   ]
  },
  {
   "cell_type": "code",
   "execution_count": 86,
   "metadata": {},
   "outputs": [
    {
     "data": {
      "text/plain": [
       "[4.2384487899544125e-07,\n",
       " 2.3448061801774165e-06,\n",
       " 2.367020582552928e-06,\n",
       " 6.571192923791013e-06,\n",
       " 5.4358541876421125e-05,\n",
       " 0.00020173914933983947,\n",
       " 0.002437575065306435,\n",
       " 0.06397080195941987,\n",
       " 0.14189620473359968,\n",
       " 0.41159487946671264,\n",
       " 0.7213831993772614,\n",
       " 0.7291366897897232,\n",
       " 0.9465322242527417,\n",
       " 0.9865972956193445,\n",
       " 0.9962296985932257,\n",
       " 0.9999754229236333,\n",
       " 0.9999758117230415,\n",
       " 0.9999978096835431,\n",
       " 0.9999999622235002,\n",
       " 0.9999999999596727]"
      ]
     },
     "execution_count": 86,
     "metadata": {},
     "output_type": "execute_result"
    }
   ],
   "source": [
    "newlist=[prob(x) for x in xvals]\n",
    "newlist"
   ]
  },
  {
   "cell_type": "markdown",
   "metadata": {
    "id": "4KI2R8-7oB2t"
   },
   "source": [
    "2. Use these probabilities to make classifications at each of these 20 x-values in a new list `classi`. A data point is classified as a failure if the probability of failure $p(x)$ is greater than or equal to the probability of not failing (which is $1 - p(x)$). Compare these to the $y$ values in the data set to report the fraction of correctly classified failures (an element in `classi` is equal to the corresponding element in $y$) from the model. (you will need to create a counter which you increment to track the total number of correctly classified data points."
   ]
  },
  {
   "cell_type": "code",
   "execution_count": 87,
   "metadata": {
    "colab": {
     "base_uri": "https://localhost:8080/"
    },
    "id": "9EIg1VT_oB2t",
    "outputId": "34898460-b8a9-4324-947f-4ae49a17be83"
   },
   "outputs": [
    {
     "data": {
      "text/plain": [
       "0"
      ]
     },
     "execution_count": 87,
     "metadata": {},
     "output_type": "execute_result"
    }
   ],
   "source": [
    "1*False"
   ]
  },
  {
   "cell_type": "code",
   "execution_count": 24,
   "metadata": {
    "id": "pfie_UZgoB2t"
   },
   "outputs": [],
   "source": [
    "# your code here\n",
    "# for this you will need to compare p(x) >= 1 - p(x). This will give booleans True or False.\n",
    "# Multiply the result of the comparision by 1 as above to convert to a number 1 or 0. Then\n",
    "# see if the result is the same as in the y array ny using == to test whether the result is equal to\n",
    "# a particular y.\n"
   ]
  },
  {
   "cell_type": "code",
   "execution_count": 94,
   "metadata": {},
   "outputs": [
    {
     "name": "stdout",
     "output_type": "stream",
     "text": [
      "False\n",
      "0\n",
      "False\n",
      "0\n",
      "False\n",
      "0\n",
      "False\n",
      "0\n",
      "False\n",
      "0\n",
      "False\n",
      "0\n",
      "False\n",
      "0\n",
      "False\n",
      "0\n",
      "False\n",
      "0\n",
      "False\n",
      "0\n",
      "True\n",
      "1\n",
      "True\n",
      "1\n",
      "True\n",
      "1\n",
      "True\n",
      "1\n",
      "True\n",
      "1\n",
      "True\n",
      "1\n",
      "True\n",
      "1\n",
      "True\n",
      "1\n",
      "True\n",
      "1\n",
      "True\n",
      "1\n"
     ]
    }
   ],
   "source": [
    "predictions=[]\n",
    "for p in newlist:\n",
    "    print(p>=1-p)\n",
    "    print(1*(p>=1-p))\n",
    "    predictions.append(1*(p>=1-p))"
   ]
  },
  {
   "cell_type": "code",
   "execution_count": 95,
   "metadata": {},
   "outputs": [
    {
     "name": "stdout",
     "output_type": "stream",
     "text": [
      "[0, 0, 0, 0, 0, 0, 0, 0, 0, 0, 1, 1, 1, 1, 1, 1, 1, 1, 1, 1]\n"
     ]
    }
   ],
   "source": [
    "print(predictions)"
   ]
  },
  {
   "cell_type": "code",
   "execution_count": 96,
   "metadata": {},
   "outputs": [
    {
     "data": {
      "text/plain": [
       "[0, 0, 0, 0, 0, 0, 0, 0, 0, 1, 1, 0, 1, 1, 1, 1, 1, 1, 1, 1]"
      ]
     },
     "execution_count": 96,
     "metadata": {},
     "output_type": "execute_result"
    }
   ],
   "source": [
    "y"
   ]
  },
  {
   "cell_type": "code",
   "execution_count": 98,
   "metadata": {},
   "outputs": [
    {
     "name": "stdout",
     "output_type": "stream",
     "text": [
      "0 0 0\n",
      "1 0 0\n",
      "2 0 0\n",
      "3 0 0\n",
      "4 0 0\n",
      "5 0 0\n",
      "6 0 0\n",
      "7 0 0\n",
      "8 0 0\n",
      "9 0 1\n",
      "10 1 1\n",
      "11 1 0\n",
      "12 1 1\n",
      "13 1 1\n",
      "14 1 1\n",
      "15 1 1\n",
      "16 1 1\n",
      "17 1 1\n",
      "18 1 1\n",
      "19 1 1\n"
     ]
    }
   ],
   "source": [
    "for i,ypred in enumerate(predictions):\n",
    "    print(i, ypred, y[i])"
   ]
  },
  {
   "cell_type": "code",
   "execution_count": 99,
   "metadata": {},
   "outputs": [
    {
     "name": "stdout",
     "output_type": "stream",
     "text": [
      "0 0 0 True\n",
      "1 0 0 True\n",
      "2 0 0 True\n",
      "3 0 0 True\n",
      "4 0 0 True\n",
      "5 0 0 True\n",
      "6 0 0 True\n",
      "7 0 0 True\n",
      "8 0 0 True\n",
      "9 0 1 False\n",
      "10 1 1 True\n",
      "11 1 0 False\n",
      "12 1 1 True\n",
      "13 1 1 True\n",
      "14 1 1 True\n",
      "15 1 1 True\n",
      "16 1 1 True\n",
      "17 1 1 True\n",
      "18 1 1 True\n",
      "19 1 1 True\n"
     ]
    }
   ],
   "source": [
    "for i,ypred in enumerate(predictions):\n",
    "    print(i, ypred, y[i], y[i]==ypred)"
   ]
  },
  {
   "cell_type": "code",
   "execution_count": 100,
   "metadata": {},
   "outputs": [
    {
     "name": "stdout",
     "output_type": "stream",
     "text": [
      "0 0 0 1\n",
      "1 0 0 1\n",
      "2 0 0 1\n",
      "3 0 0 1\n",
      "4 0 0 1\n",
      "5 0 0 1\n",
      "6 0 0 1\n",
      "7 0 0 1\n",
      "8 0 0 1\n",
      "9 0 1 0\n",
      "10 1 1 1\n",
      "11 1 0 0\n",
      "12 1 1 1\n",
      "13 1 1 1\n",
      "14 1 1 1\n",
      "15 1 1 1\n",
      "16 1 1 1\n",
      "17 1 1 1\n",
      "18 1 1 1\n",
      "19 1 1 1\n"
     ]
    }
   ],
   "source": [
    "for i,ypred in enumerate(predictions):\n",
    "    print(i, ypred, y[i], 1*(y[i]==ypred))"
   ]
  },
  {
   "cell_type": "code",
   "execution_count": 102,
   "metadata": {},
   "outputs": [
    {
     "name": "stdout",
     "output_type": "stream",
     "text": [
      "0 0 0 1\n",
      "1 0 0 1\n",
      "2 0 0 1\n",
      "3 0 0 1\n",
      "4 0 0 1\n",
      "5 0 0 1\n",
      "6 0 0 1\n",
      "7 0 0 1\n",
      "8 0 0 1\n",
      "9 0 1 0\n",
      "10 1 1 1\n",
      "11 1 0 0\n",
      "12 1 1 1\n",
      "13 1 1 1\n",
      "14 1 1 1\n",
      "15 1 1 1\n",
      "16 1 1 1\n",
      "17 1 1 1\n",
      "18 1 1 1\n",
      "19 1 1 1\n"
     ]
    },
    {
     "data": {
      "text/plain": [
       "18"
      ]
     },
     "execution_count": 102,
     "metadata": {},
     "output_type": "execute_result"
    }
   ],
   "source": [
    "s=0\n",
    "for i,ypred in enumerate(predictions):\n",
    "    print(i, ypred, y[i], 1*(y[i]==ypred))\n",
    "    s=s+1*(y[i]==ypred)\n",
    "s"
   ]
  },
  {
   "cell_type": "code",
   "execution_count": 103,
   "metadata": {},
   "outputs": [
    {
     "data": {
      "text/plain": [
       "0.9"
      ]
     },
     "execution_count": 103,
     "metadata": {},
     "output_type": "execute_result"
    }
   ],
   "source": [
    "s/len(y)"
   ]
  },
  {
   "cell_type": "code",
   "execution_count": 104,
   "metadata": {},
   "outputs": [
    {
     "data": {
      "text/plain": [
       "9.0"
      ]
     },
     "execution_count": 104,
     "metadata": {},
     "output_type": "execute_result"
    }
   ],
   "source": [
    "s/len(y)*10"
   ]
  },
  {
   "cell_type": "code",
   "execution_count": 110,
   "metadata": {},
   "outputs": [
    {
     "name": "stdout",
     "output_type": "stream",
     "text": [
      "0\n",
      "1\n",
      "2\n",
      "3\n",
      "4\n"
     ]
    }
   ],
   "source": [
    "for i in range(5):\n",
    "    print(i)"
   ]
  },
  {
   "cell_type": "code",
   "execution_count": 116,
   "metadata": {},
   "outputs": [
    {
     "ename": "SyntaxError",
     "evalue": "closing parenthesis ']' does not match opening parenthesis '(' (2745956262.py, line 4)",
     "output_type": "error",
     "traceback": [
      "\u001b[0;36m  Cell \u001b[0;32mIn[116], line 4\u001b[0;36m\u001b[0m\n\u001b[0;31m    corrects=[1*(preds[i]==actuals[i]) for i in range(len(preds)]\u001b[0m\n\u001b[0m                                                                ^\u001b[0m\n\u001b[0;31mSyntaxError\u001b[0m\u001b[0;31m:\u001b[0m closing parenthesis ']' does not match opening parenthesis '('\n"
     ]
    }
   ],
   "source": [
    "def accuracy(preds, actuals):\n",
    "    if len(preds) != len(actuals):\n",
    "        raise ValueError(\"Unequal lenght lists\")\n",
    "    corrects=[1*(preds[i]==actuals[i]) for i in range(len(preds)]\n",
    "    print(corrects)\n",
    "    return 100*(sum(corrects)/len(corrects))"
   ]
  },
  {
   "cell_type": "code",
   "execution_count": 117,
   "metadata": {},
   "outputs": [
    {
     "ename": "ValueError",
     "evalue": "Unequal lenght lists",
     "output_type": "error",
     "traceback": [
      "\u001b[0;31m---------------------------------------------------------------------------\u001b[0m",
      "\u001b[0;31mValueError\u001b[0m                                Traceback (most recent call last)",
      "Cell \u001b[0;32mIn[117], line 1\u001b[0m\n\u001b[0;32m----> 1\u001b[0m \u001b[43maccuracy\u001b[49m\u001b[43m(\u001b[49m\u001b[43m[\u001b[49m\u001b[38;5;241;43m0\u001b[39;49m\u001b[43m]\u001b[49m\u001b[43m,\u001b[49m\u001b[43m \u001b[49m\u001b[43m[\u001b[49m\u001b[38;5;241;43m0\u001b[39;49m\u001b[43m,\u001b[49m\u001b[38;5;241;43m1\u001b[39;49m\u001b[43m]\u001b[49m\u001b[43m)\u001b[49m\n",
      "Cell \u001b[0;32mIn[108], line 3\u001b[0m, in \u001b[0;36maccuracy\u001b[0;34m(preds, actuals)\u001b[0m\n\u001b[1;32m      1\u001b[0m \u001b[38;5;28;01mdef\u001b[39;00m \u001b[38;5;21maccuracy\u001b[39m(preds, actuals):\n\u001b[1;32m      2\u001b[0m     \u001b[38;5;28;01mif\u001b[39;00m \u001b[38;5;28mlen\u001b[39m(preds) \u001b[38;5;241m!=\u001b[39m \u001b[38;5;28mlen\u001b[39m(actuals):\n\u001b[0;32m----> 3\u001b[0m         \u001b[38;5;28;01mraise\u001b[39;00m \u001b[38;5;167;01mValueError\u001b[39;00m(\u001b[38;5;124m\"\u001b[39m\u001b[38;5;124mUnequal lenght lists\u001b[39m\u001b[38;5;124m\"\u001b[39m)\n\u001b[1;32m      4\u001b[0m     \u001b[38;5;28;01mreturn\u001b[39;00m \u001b[38;5;241m100\u001b[39m\n",
      "\u001b[0;31mValueError\u001b[0m: Unequal lenght lists"
     ]
    }
   ],
   "source": [
    "accuracy([0], [0,1])"
   ]
  },
  {
   "cell_type": "code",
   "execution_count": 118,
   "metadata": {},
   "outputs": [
    {
     "data": {
      "text/plain": [
       "100"
      ]
     },
     "execution_count": 118,
     "metadata": {},
     "output_type": "execute_result"
    }
   ],
   "source": [
    "accuracy(predictions, y)"
   ]
  },
  {
   "cell_type": "code",
   "execution_count": null,
   "metadata": {},
   "outputs": [],
   "source": []
  },
  {
   "cell_type": "code",
   "execution_count": null,
   "metadata": {},
   "outputs": [],
   "source": []
  }
 ],
 "metadata": {
  "colab": {
   "provenance": []
  },
  "kernelspec": {
   "display_name": "Python 3 (ipykernel)",
   "language": "python",
   "name": "python3"
  },
  "language_info": {
   "codemirror_mode": {
    "name": "ipython",
    "version": 3
   },
   "file_extension": ".py",
   "mimetype": "text/x-python",
   "name": "python",
   "nbconvert_exporter": "python",
   "pygments_lexer": "ipython3",
   "version": "3.12.2"
  }
 },
 "nbformat": 4,
 "nbformat_minor": 4
}
