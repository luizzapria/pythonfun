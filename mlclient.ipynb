{
 "cells": [
  {
   "cell_type": "code",
   "execution_count": 1,
   "id": "10d8adf8-076c-44dd-9ae8-b129eb7b7291",
   "metadata": {},
   "outputs": [],
   "source": [
    "xvals = [-2.022945287808054, -1.8486091760122103, -1.8476481826866842, -1.7435854332654428,\n",
    "         -1.5282423673888716, -1.3945778557109074, -1.1403979924220742, -0.8009077275459544,\n",
    "         -0.7108560219444477, -0.5638678812593274, -0.43048994749879754, -0.4265240230310121,\n",
    "         -0.23456806947264375, -0.08933017942095312, 0.04091978204507629, 0.5542534388866378,\n",
    "         0.5558786314354511, 0.8006640938973202, 1.2144534202678483, 1.9118026057089639]\n",
    "y = [0, 0, 0, 0, 0, 0, 0, 0, 0, 1, 1, 0, 1, 1, 1, 1, 1, 1, 1, 1]"
   ]
  },
  {
   "cell_type": "code",
   "execution_count": 2,
   "id": "781036ef-15a4-4695-9507-0c94d52bd9cf",
   "metadata": {},
   "outputs": [],
   "source": [
    "import ml"
   ]
  },
  {
   "cell_type": "code",
   "execution_count": 3,
   "id": "7c72d4ad-096a-4a3f-a190-0bc5ab2599ca",
   "metadata": {},
   "outputs": [],
   "source": [
    "slope, intercept=ml.fit(xvals, y)"
   ]
  },
  {
   "cell_type": "code",
   "execution_count": 4,
   "id": "bd666d33-bc6f-40d4-a4eb-79e3756689a3",
   "metadata": {},
   "outputs": [],
   "source": [
    "predict_proba=ml.predict_proba_maker(slope, intercept)\n",
    "predict=ml.predict_maker(slope, intercept)"
   ]
  },
  {
   "cell_type": "code",
   "execution_count": 5,
   "id": "80d37cb3-b0a9-4825-90c0-08051a0cd952",
   "metadata": {},
   "outputs": [
    {
     "data": {
      "text/plain": [
       "[4.2384487899544125e-07,\n",
       " 2.3448061801774165e-06,\n",
       " 2.367020582552928e-06,\n",
       " 6.571192923791013e-06,\n",
       " 5.4358541876421125e-05,\n",
       " 0.00020173914933983947,\n",
       " 0.002437575065306435,\n",
       " 0.06397080195941987,\n",
       " 0.14189620473359968,\n",
       " 0.41159487946671264,\n",
       " 0.7213831993772614,\n",
       " 0.7291366897897232,\n",
       " 0.9465322242527417,\n",
       " 0.9865972956193445,\n",
       " 0.9962296985932257,\n",
       " 0.9999754229236333,\n",
       " 0.9999758117230415,\n",
       " 0.9999978096835431,\n",
       " 0.9999999622235002,\n",
       " 0.9999999999596727]"
      ]
     },
     "execution_count": 5,
     "metadata": {},
     "output_type": "execute_result"
    }
   ],
   "source": [
    "predict_proba(xvals)"
   ]
  },
  {
   "cell_type": "code",
   "execution_count": null,
   "id": "5c28115b-9f2b-49a6-8dc8-f4569fb53fa2",
   "metadata": {},
   "outputs": [],
   "source": []
  },
  {
   "cell_type": "code",
   "execution_count": 6,
   "id": "b606aa39-0c5d-479f-b3bf-d5db2509bc99",
   "metadata": {},
   "outputs": [
    {
     "data": {
      "text/plain": [
       "[0, 0, 0, 0, 0, 0, 0, 0, 0, 0, 1, 1, 1, 1, 1, 1, 1, 1, 1, 1]"
      ]
     },
     "execution_count": 6,
     "metadata": {},
     "output_type": "execute_result"
    }
   ],
   "source": [
    "predict(xvals)"
   ]
  },
  {
   "cell_type": "code",
   "execution_count": 7,
   "id": "e244b543-2980-41d3-ad6e-9de8003bead2",
   "metadata": {},
   "outputs": [
    {
     "data": {
      "text/plain": [
       "[0, 0, 0, 0, 0, 0, 0, 0, 1, 1, 1, 1, 1, 1, 1, 1, 1, 1, 1, 1]"
      ]
     },
     "execution_count": 7,
     "metadata": {},
     "output_type": "execute_result"
    }
   ],
   "source": [
    "predict(xvals, t=0.1)"
   ]
  },
  {
   "cell_type": "code",
   "execution_count": 8,
   "id": "86679b02-f275-476f-a9f8-7f2aec500a40",
   "metadata": {},
   "outputs": [],
   "source": [
    "m = ml.model()"
   ]
  },
  {
   "cell_type": "code",
   "execution_count": 9,
   "id": "42b188d8-4d3a-47f3-ab4c-b141a64f8dd6",
   "metadata": {},
   "outputs": [],
   "source": [
    "m['fit'](xvals, y)"
   ]
  },
  {
   "cell_type": "code",
   "execution_count": 10,
   "id": "e7854e84-a8db-46df-ad50-20d30f2013b2",
   "metadata": {},
   "outputs": [
    {
     "data": {
      "text/plain": [
       "[0, 0, 0, 0, 0, 0, 0, 0, 0, 0, 1, 1, 1, 1, 1, 1, 1, 1, 1, 1]"
      ]
     },
     "execution_count": 10,
     "metadata": {},
     "output_type": "execute_result"
    }
   ],
   "source": [
    "m['predict'](xvals)"
   ]
  },
  {
   "cell_type": "code",
   "execution_count": 11,
   "id": "ea4a6b5a-7df2-4379-bf62-55fd254ffb41",
   "metadata": {},
   "outputs": [
    {
     "data": {
      "text/plain": [
       "[0, 0, 0, 0, 0, 0, 0, 0, 1, 1, 1, 1, 1, 1, 1, 1, 1, 1, 1, 1]"
      ]
     },
     "execution_count": 11,
     "metadata": {},
     "output_type": "execute_result"
    }
   ],
   "source": [
    "m['predict'](xvals, t=0.1)"
   ]
  },
  {
   "cell_type": "code",
   "execution_count": 12,
   "id": "969f498a-a7aa-47a1-bd8d-57b7d6aac7f8",
   "metadata": {},
   "outputs": [],
   "source": [
    "mlm=ml.LogisticModel()"
   ]
  },
  {
   "cell_type": "code",
   "execution_count": 13,
   "id": "cc65b9bf-450d-4ef1-a80b-4ebbde6642db",
   "metadata": {},
   "outputs": [],
   "source": [
    "mlm.intercept"
   ]
  },
  {
   "cell_type": "code",
   "execution_count": 14,
   "id": "61d06a0e-ca7d-4521-b47f-506bd3d05677",
   "metadata": {},
   "outputs": [],
   "source": [
    "mlm.fit(xvals, y)"
   ]
  },
  {
   "cell_type": "code",
   "execution_count": 15,
   "id": "cbdc9a0a-8983-41a5-ae98-8df05efefbb5",
   "metadata": {},
   "outputs": [
    {
     "data": {
      "text/plain": [
       "5.175316482607568"
      ]
     },
     "execution_count": 15,
     "metadata": {},
     "output_type": "execute_result"
    }
   ],
   "source": [
    "mlm.intercept"
   ]
  },
  {
   "cell_type": "code",
   "execution_count": 16,
   "id": "781fada1-c9ec-499a-844a-e095c4eae11b",
   "metadata": {},
   "outputs": [],
   "source": [
    "mlm.probabilities"
   ]
  },
  {
   "cell_type": "code",
   "execution_count": 17,
   "id": "51c8577a-743b-4dda-9946-a6462e456e4f",
   "metadata": {},
   "outputs": [
    {
     "data": {
      "text/plain": [
       "<bound method LogisticModel.predict_proba of <ml.LogisticModel object at 0x1064e52b0>>"
      ]
     },
     "execution_count": 17,
     "metadata": {},
     "output_type": "execute_result"
    }
   ],
   "source": [
    "mlm.predict_proba(xvals)"
   ]
  },
  {
   "cell_type": "code",
   "execution_count": 18,
   "id": "cf2eaf1a-1da9-48bf-9bf6-e588cac6df15",
   "metadata": {},
   "outputs": [],
   "source": [
    "mlm.predictions"
   ]
  },
  {
   "cell_type": "code",
   "execution_count": 19,
   "id": "db7cb2aa-998e-4f90-afa2-f81058728495",
   "metadata": {},
   "outputs": [
    {
     "data": {
      "text/plain": [
       "[4.2384487899544125e-07,\n",
       " 2.3448061801774165e-06,\n",
       " 2.367020582552928e-06,\n",
       " 6.571192923791013e-06,\n",
       " 5.4358541876421125e-05,\n",
       " 0.00020173914933983947,\n",
       " 0.002437575065306435,\n",
       " 0.06397080195941987,\n",
       " 0.14189620473359968,\n",
       " 0.41159487946671264,\n",
       " 0.7213831993772614,\n",
       " 0.7291366897897232,\n",
       " 0.9465322242527417,\n",
       " 0.9865972956193445,\n",
       " 0.9962296985932257,\n",
       " 0.9999754229236333,\n",
       " 0.9999758117230415,\n",
       " 0.9999978096835431,\n",
       " 0.9999999622235002,\n",
       " 0.9999999999596727]"
      ]
     },
     "execution_count": 19,
     "metadata": {},
     "output_type": "execute_result"
    }
   ],
   "source": [
    "mlm.probabilities"
   ]
  },
  {
   "cell_type": "code",
   "execution_count": 20,
   "id": "3e03b229-1a45-4de9-9753-1a735461c3c9",
   "metadata": {},
   "outputs": [
    {
     "data": {
      "text/plain": [
       "<bound method LogisticModel.predict_proba of <ml.LogisticModel object at 0x1064e52b0>>"
      ]
     },
     "execution_count": 20,
     "metadata": {},
     "output_type": "execute_result"
    }
   ],
   "source": [
    "mlm.predict_proba(xvals)"
   ]
  },
  {
   "cell_type": "code",
   "execution_count": 21,
   "id": "1bed101c-fcb1-40a4-8b79-46f87a330691",
   "metadata": {},
   "outputs": [
    {
     "ename": "TypeError",
     "evalue": "'NoneType' object is not callable",
     "output_type": "error",
     "traceback": [
      "\u001b[0;31m---------------------------------------------------------------------------\u001b[0m",
      "\u001b[0;31mTypeError\u001b[0m                                 Traceback (most recent call last)",
      "Cell \u001b[0;32mIn[21], line 1\u001b[0m\n\u001b[0;32m----> 1\u001b[0m \u001b[43mmlm\u001b[49m\u001b[38;5;241;43m.\u001b[39;49m\u001b[43mpredictions\u001b[49m\u001b[43m(\u001b[49m\u001b[43mxvals\u001b[49m\u001b[43m)\u001b[49m\n",
      "\u001b[0;31mTypeError\u001b[0m: 'NoneType' object is not callable"
     ]
    }
   ],
   "source": [
    "mlm.predictions(xvals)"
   ]
  },
  {
   "cell_type": "code",
   "execution_count": 22,
   "id": "7f6ac046-b41e-4c28-81f5-555978b918da",
   "metadata": {},
   "outputs": [
    {
     "ename": "TypeError",
     "evalue": "'NoneType' object is not callable",
     "output_type": "error",
     "traceback": [
      "\u001b[0;31m---------------------------------------------------------------------------\u001b[0m",
      "\u001b[0;31mTypeError\u001b[0m                                 Traceback (most recent call last)",
      "Cell \u001b[0;32mIn[22], line 1\u001b[0m\n\u001b[0;32m----> 1\u001b[0m \u001b[43mmlm\u001b[49m\u001b[38;5;241;43m.\u001b[39;49m\u001b[43mpredictions\u001b[49m\u001b[43m(\u001b[49m\u001b[43mxvals\u001b[49m\u001b[43m,\u001b[49m\u001b[43m \u001b[49m\u001b[43mt\u001b[49m\u001b[38;5;241;43m=\u001b[39;49m\u001b[38;5;241;43m0.1\u001b[39;49m\u001b[43m)\u001b[49m\n",
      "\u001b[0;31mTypeError\u001b[0m: 'NoneType' object is not callable"
     ]
    }
   ],
   "source": [
    "mlm.predictions(xvals, t=0.1)"
   ]
  },
  {
   "cell_type": "code",
   "execution_count": null,
   "id": "02af0d49-32fe-4f21-b99d-35da4f0fee3d",
   "metadata": {},
   "outputs": [],
   "source": []
  }
 ],
 "metadata": {
  "kernelspec": {
   "display_name": "Python 3 (ipykernel)",
   "language": "python",
   "name": "python3"
  },
  "language_info": {
   "codemirror_mode": {
    "name": "ipython",
    "version": 3
   },
   "file_extension": ".py",
   "mimetype": "text/x-python",
   "name": "python",
   "nbconvert_exporter": "python",
   "pygments_lexer": "ipython3",
   "version": "3.12.2"
  }
 },
 "nbformat": 4,
 "nbformat_minor": 5
}
